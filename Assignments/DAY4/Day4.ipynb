{
 "cells": [
  {
   "cell_type": "markdown",
   "metadata": {},
   "source": [
    "Question 1 : Research on whether addition, subtraction, multiplication, division, floor division and modulo operations be performed on complex numbers. Based on your study, implement a Python program to demonstrate these operations. "
   ]
  },
  {
   "cell_type": "code",
   "execution_count": 8,
   "metadata": {},
   "outputs": [
    {
     "name": "stdout",
     "output_type": "stream",
     "text": [
      "Addition (15+9j)\n",
      "Subtraction (5+5j)\n",
      "Division (2.206896551724138+0.5172413793103449j)\n",
      "Multiplication (36+55j)\n"
     ]
    }
   ],
   "source": [
    "a = complex(10,7)\n",
    "b = complex(5,2)\n",
    "\n",
    "sub=a-b\n",
    "add = a+b\n",
    "divison=a/b\n",
    "multi=a*b\n",
    "\n",
    "print(\"Addition\",add)\n",
    "print(\"Subtraction\",sub)\n",
    "print(\"Division\",divison)\n",
    "print(\"Multiplication\",multi)\n"
   ]
  },
  {
   "cell_type": "markdown",
   "metadata": {},
   "source": [
    "Research on range() functions and its parameters. Create a markdown cell and write in your own words (no copy-paste from google please) what you understand about it. Implement a small program of your choice on the same. "
   ]
  },
  {
   "cell_type": "markdown",
   "metadata": {},
   "source": [
    "The Ranges Starts at the starting value , increments by the step and stops before a specified number "
   ]
  },
  {
   "cell_type": "code",
   "execution_count": 14,
   "metadata": {},
   "outputs": [
    {
     "name": "stdout",
     "output_type": "stream",
     "text": [
      "1\n",
      "4\n",
      "7\n",
      "[]\n"
     ]
    }
   ],
   "source": [
    "x = range(1,10,3)\n",
    "\n",
    "for n in x:\n",
    "  print(n)\n",
    "\n",
    "start = 2\n",
    "stop = -14\n",
    "step = -2\n",
    "print(list(range(start, 2, step)))"
   ]
  },
  {
   "cell_type": "markdown",
   "metadata": {},
   "source": [
    "Question 3:  Consider two numbers. Perform their subtraction and if the result of subtraction is greater than 25, print their multiplication result else print their division result."
   ]
  },
  {
   "cell_type": "code",
   "execution_count": 17,
   "metadata": {},
   "outputs": [
    {
     "name": "stdout",
     "output_type": "stream",
     "text": [
      "2.0\n"
     ]
    }
   ],
   "source": [
    "x = 50\n",
    "y = 25\n",
    "\n",
    "sub = x-y \n",
    "if (sub>25):\n",
    "    print(x*y)\n",
    "else:\n",
    "    print(x/y)\n"
   ]
  },
  {
   "cell_type": "markdown",
   "metadata": {},
   "source": [
    "Question 4: Consider a list of 10 elements of integer values. If the number in the list is divisible by 2, print the result as \"square of that number minus 2\". "
   ]
  },
  {
   "cell_type": "code",
   "execution_count": 20,
   "metadata": {},
   "outputs": [
    {
     "name": "stdout",
     "output_type": "stream",
     "text": [
      "Result 2\n",
      "Result 14\n",
      "Result 34\n",
      "Result 62\n",
      "Result 142\n"
     ]
    }
   ],
   "source": [
    "list = [1,2,3,4,6,8,12,25,45,55]\n",
    "\n",
    "for num in list: \n",
    "    if (num%2==0):\n",
    "        print(\"Result\",num*num-2)"
   ]
  },
  {
   "cell_type": "markdown",
   "metadata": {},
   "source": [
    "Question 5: Consider a list of 10 elements. Print all the elements in the list which are greater than 7 when that number is divided 2. "
   ]
  },
  {
   "cell_type": "code",
   "execution_count": 22,
   "metadata": {},
   "outputs": [
    {
     "name": "stdout",
     "output_type": "stream",
     "text": [
      "Result 8\n",
      "Result 12\n"
     ]
    }
   ],
   "source": [
    "list = [1,2,3,4,6,8,12,25,45,55]\n",
    "for num in list: \n",
    "    if (num%2==0 and num>7):\n",
    "        print(\"Result\",num)"
   ]
  },
  {
   "cell_type": "code",
   "execution_count": null,
   "metadata": {},
   "outputs": [],
   "source": []
  }
 ],
 "metadata": {
  "kernelspec": {
   "display_name": "Python 3",
   "language": "python",
   "name": "python3"
  },
  "language_info": {
   "codemirror_mode": {
    "name": "ipython",
    "version": 3
   },
   "file_extension": ".py",
   "mimetype": "text/x-python",
   "name": "python",
   "nbconvert_exporter": "python",
   "pygments_lexer": "ipython3",
   "version": "3.7.6"
  }
 },
 "nbformat": 4,
 "nbformat_minor": 4
}
