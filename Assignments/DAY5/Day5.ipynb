{
 "cells": [
  {
   "cell_type": "markdown",
   "metadata": {},
   "source": [
    "Question 1 : Write a Python program to find the first 20 non-even prime natural numbers. "
   ]
  },
  {
   "cell_type": "code",
   "execution_count": 9,
   "metadata": {},
   "outputs": [
    {
     "name": "stdout",
     "output_type": "stream",
     "text": [
      "3\n",
      "5\n",
      "7\n",
      "11\n",
      "13\n",
      "17\n",
      "19\n"
     ]
    }
   ],
   "source": [
    "\n",
    "for num in range(1, 20):\n",
    "   if num > 1:\n",
    "       if num%2==0:\n",
    "           continue\n",
    "       for i in range(2, num):\n",
    "           if (num % i) == 0:\n",
    "               break\n",
    "       else:\n",
    "           print(num)"
   ]
  },
  {
   "cell_type": "markdown",
   "metadata": {},
   "source": [
    "Question 2 : Write a Python program to implement 15 functions of string."
   ]
  },
  {
   "cell_type": "code",
   "execution_count": 13,
   "metadata": {},
   "outputs": [
    {
     "name": "stdout",
     "output_type": "stream",
     "text": [
      "capitalize():  Pooja ranjhani\n",
      "casefold(): pooja12 ranjhani\n",
      "center():    Pooja Ranjhani   \n",
      "count(): 1\n",
      "encode(): b'Pooja Ranjhani'\n",
      "endswith(): False\n",
      "expandtabs(): H e l l o\n",
      "find(): 8\n",
      "format():  For only 49.00 dollars!\n",
      "index(): 6\n",
      "isalnum(): False\n",
      "isalpha(): False\n",
      "isdecimal(): False\n",
      "isdigit(): False\n",
      "isdigisidentifierit(): False\n",
      "islower(): True\n",
      "isnumeric(): False\n",
      "isprintable(): True\n",
      "isspace(): False\n"
     ]
    }
   ],
   "source": [
    "str= \"Pooja Ranjhani\"\n",
    "str1= \"pooja12 ranjhani\"\n",
    "print(\"capitalize(): \",str.capitalize())\n",
    "print(\"casefold():\",str1.casefold())\n",
    "print(\"center():\",str.center(20))\n",
    "print(\"count():\",str.count(\"Ranjhani\"))\n",
    "print(\"encode():\",str.encode())\n",
    "print(\"endswith():\",str1.endswith(\"y\"))\n",
    "txt = \"H\\te\\tl\\tl\\to\"\n",
    "print(\"expandtabs():\",txt.expandtabs(2))\n",
    "print(\"find():\",str1.find(\"ranjhani\"))\n",
    "txt1 = \"For only {price:.2f} dollars!\"\n",
    "print(\"format(): \",txt1.format(price = 49))\n",
    "print(\"index():\",str.index(\"Ranjhani\"))\n",
    "print(\"isalnum():\",str1.isalnum())\n",
    "print(\"isalpha():\",str.isalpha())\n",
    "print(\"isdecimal():\",str1.isdecimal())\n",
    "print(\"isdigit():\",str1.isdigit())\n",
    "print(\"isdigisidentifierit():\",str1.isidentifier())\n",
    "print(\"islower():\",str1.islower())\n",
    "print(\"isnumeric():\",str1.isnumeric())\n",
    "print(\"isprintable():\",str1.isprintable())\n",
    "print(\"isspace():\",str1.isspace())"
   ]
  },
  {
   "cell_type": "markdown",
   "metadata": {},
   "source": [
    "Question 3: Write a Python program to check if the given string is a Palindrome or Anagram or None of them. Display the message accordingly to the user."
   ]
  },
  {
   "cell_type": "code",
   "execution_count": 16,
   "metadata": {},
   "outputs": [
    {
     "name": "stdout",
     "output_type": "stream",
     "text": [
      "Enter first string:dad\n",
      "Enter second string:dad\n",
      "dad is palindrome\n",
      "The strings are anagrams.\n"
     ]
    }
   ],
   "source": [
    "txt1=input(\"Enter first string:\")\n",
    "txt2=input(\"Enter second string:\")\n",
    "if txt1==txt2[::-1]:\n",
    "    print(txt1,\"is palindrome\")\n",
    "if(sorted(txt1)==sorted(txt2)):\n",
    "      print(\"The strings are anagrams.\")\n",
    "else:\n",
    "      print(\"The strings aren't anagrams.\")"
   ]
  },
  {
   "cell_type": "markdown",
   "metadata": {},
   "source": [
    "Write a Python's user defined function that removes all the additional characters from the string and converts it finally to lower case using built-in lower(). eg: If the string is \"Dr. Darshan Ingle @AI-ML Trainer\", then the output be \"drdarshaningleaimltrainer\"."
   ]
  },
  {
   "cell_type": "code",
   "execution_count": 3,
   "metadata": {},
   "outputs": [
    {
     "name": "stdout",
     "output_type": "stream",
     "text": [
      "enter stringDr. Darshan Ingle @AI-ML Trainer\n",
      "drdarshaningleaimltrainer"
     ]
    }
   ],
   "source": [
    "str = input('enter string')\n",
    "for x in str: \n",
    "    if x.isalnum():\n",
    "        print(x.lower(),end=\"\")"
   ]
  },
  {
   "cell_type": "code",
   "execution_count": null,
   "metadata": {},
   "outputs": [],
   "source": []
  }
 ],
 "metadata": {
  "kernelspec": {
   "display_name": "Python 3",
   "language": "python",
   "name": "python3"
  },
  "language_info": {
   "codemirror_mode": {
    "name": "ipython",
    "version": 3
   },
   "file_extension": ".py",
   "mimetype": "text/x-python",
   "name": "python",
   "nbconvert_exporter": "python",
   "pygments_lexer": "ipython3",
   "version": "3.7.6"
  }
 },
 "nbformat": 4,
 "nbformat_minor": 4
}
